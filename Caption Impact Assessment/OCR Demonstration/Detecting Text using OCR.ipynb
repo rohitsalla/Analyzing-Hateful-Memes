{
 "cells": [
  {
   "cell_type": "code",
   "execution_count": 1,
   "id": "92012537-bed6-4074-a599-ab30606203cf",
   "metadata": {},
   "outputs": [
    {
     "name": "stdout",
     "output_type": "stream",
     "text": [
      "Collecting pytesseract\n",
      "  Downloading pytesseract-0.3.10-py3-none-any.whl.metadata (11 kB)\n",
      "Requirement already satisfied: packaging>=21.3 in c:\\users\\rohit\\anaconda3\\envs\\myenv\\lib\\site-packages (from pytesseract) (24.1)\n",
      "Requirement already satisfied: Pillow>=8.0.0 in c:\\users\\rohit\\anaconda3\\envs\\myenv\\lib\\site-packages (from pytesseract) (10.4.0)\n",
      "Downloading pytesseract-0.3.10-py3-none-any.whl (14 kB)\n",
      "Installing collected packages: pytesseract\n",
      "Successfully installed pytesseract-0.3.10\n"
     ]
    }
   ],
   "source": [
    "!pip install pytesseract"
   ]
  },
  {
   "cell_type": "code",
   "execution_count": 2,
   "id": "9e8f0db3-e7f9-4a6d-a39a-9853e7f22d90",
   "metadata": {},
   "outputs": [],
   "source": [
    "import cv2\n",
    "import pytesseract\n",
    "import string\n",
    "import os\n",
    "\n",
    "pytesseract.pytesseract.tesseract_cmd = r\"C:\\Program Files\\Tesseract-OCR\\tesseract.exe\"\n",
    "image_path = r\"C:\\Users\\rohit\\Desktop\\hate\\hateful_memes\\img\\train\\hateful\"\n",
    "output_file = r\"C:\\Users\\rohit\\Desktop\\hate\\hateful_memes\\Caption Impact Assessment\\OCR Demonstration\\ocr_results_for_hateful_memes.txt\""
   ]
  },
  {
   "cell_type": "code",
   "execution_count": 3,
   "id": "27af61a0-06d1-4c66-9601-4ea8973dbfd7",
   "metadata": {},
   "outputs": [],
   "source": [
    "def preprocess_image(image):\n",
    "    image = cv2.bilateralFilter(image, 5, 55, 60)\n",
    "    image = cv2.cvtColor(image, cv2.COLOR_BGR2GRAY)\n",
    "    _, image = cv2.threshold(image, 240, 255, cv2.THRESH_BINARY)\n",
    "    return image"
   ]
  },
  {
   "cell_type": "code",
   "execution_count": 4,
   "id": "8350962d-1ad1-4399-8eb8-fdbae7e4f28c",
   "metadata": {},
   "outputs": [
    {
     "name": "stdout",
     "output_type": "stream",
     "text": [
      "OCR results saved to: C:\\Users\\rohit\\Desktop\\hate\\hateful_memes\\Caption Impact Assessment\\OCR Demonstration\\ocr_results_for_hateful_memes.txt\n"
     ]
    }
   ],
   "source": [
    "allowed_chars = string.ascii_letters + string.digits + \" \"\n",
    "\n",
    "# Open the output text file in write mode\n",
    "with open(output_file, \"w\") as f:\n",
    "    # Iterate through all images in the folder\n",
    "    for filename in os.listdir(image_path):\n",
    "        # Get the full path of the image\n",
    "        image_path1 = os.path.join(image_path, filename)\n",
    "\n",
    "        # Read the image\n",
    "        image = cv2.imread(image_path1)\n",
    "\n",
    "        # Preprocess the image\n",
    "        image = preprocess_image(image)\n",
    "        custom_config = r\"--oem 3 --psm 11 -c tessedit_char_whitelist= 'ABCDEFGHIJKLMNOPQRSTUVWXYZ '\"\n",
    "        # Perform OCR and remove extra newlines\n",
    "        text = pytesseract.image_to_string(image)\n",
    "        # Filter text, replacing unrecognized characters with space\n",
    "        filtered_text = \"\".join(\n",
    "            char if char in allowed_chars else \" \" for char in text\n",
    "        )\n",
    "\n",
    "        # Remove extra newlines\n",
    "        filtered_text = filtered_text.replace(\"\\n\", \" \")\n",
    "\n",
    "        # Write the results to the text file\n",
    "        f.write(f\"Image: {filename}, Text: {filtered_text}\\n\")\n",
    "\n",
    "#Saving the results\n",
    "print(f\"OCR results saved to: {output_file}\")"
   ]
  },
  {
   "cell_type": "code",
   "execution_count": null,
   "id": "d3f99f8e-60d3-414f-a360-f677fe7a6c5e",
   "metadata": {},
   "outputs": [],
   "source": []
  }
 ],
 "metadata": {
  "kernelspec": {
   "display_name": "Python 3 (ipykernel)",
   "language": "python",
   "name": "python3"
  },
  "language_info": {
   "codemirror_mode": {
    "name": "ipython",
    "version": 3
   },
   "file_extension": ".py",
   "mimetype": "text/x-python",
   "name": "python",
   "nbconvert_exporter": "python",
   "pygments_lexer": "ipython3",
   "version": "3.12.4"
  }
 },
 "nbformat": 4,
 "nbformat_minor": 5
}
